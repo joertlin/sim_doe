{
 "metadata": {
  "name": "",
  "signature": "sha256:6678fcaab070e74da7e8a927035c66e61db8c04fba2f3ec92f2cd42bba370891"
 },
 "nbformat": 3,
 "nbformat_minor": 0,
 "worksheets": [
  {
   "cells": [
    {
     "cell_type": "code",
     "collapsed": false,
     "input": [
      "print 'this is fun'\n"
     ],
     "language": "python",
     "metadata": {},
     "outputs": [
      {
       "output_type": "stream",
       "stream": "stdout",
       "text": [
        "this is fun\n"
       ]
      }
     ],
     "prompt_number": 1
    }
   ],
   "metadata": {}
  }
 ]
}