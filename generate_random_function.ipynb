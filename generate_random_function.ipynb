{
 "metadata": {
  "name": "",
  "signature": "sha256:ffe9119d8e402ded01521a435923ce66f0aad836890025d4011b56ed6156f3f4"
 },
 "nbformat": 3,
 "nbformat_minor": 0,
 "worksheets": [
  {
   "cells": [
    {
     "cell_type": "markdown",
     "metadata": {},
     "source": [
      "Purpose\n",
      "---\n",
      "Design of Experiemnts or DOE efforts are formulated to examin process outcomes based on process outputs. Process outcomes or outputs are measured as process inputs are varied.  Variables can have various forms:\n",
      "\n",
      "* Continuous variables\n",
      "  * Temperature\n",
      "  * Time\n",
      "  * Pressure\n",
      "\n",
      "* Boolean Variables\n",
      "  * Lubricant added (yes/no)\n",
      "  * Sample tray cleaned between tests (yes/no)\n",
      "  * Sample placed in box after manufactuing (yes/no)\n",
      "  \n",
      "There are other variable types, but we will be focusing on these two types of data.  When considering a simple case of one variable and one outcome, the process of choosing various levels of the input variable and measuring the output is easily understood and pracitced by many engineers in school (search: Transfer Function). I can think of several strain gauge tests that consist of approximately 5 data points to develop a linear transfer function.  This function is typically included in a calibration certificate upon purchase of a commercial load cell.\n",
      "\n",
      "This process of scanning thru variables can get complicated very quickly.  Let's say we have a process that utilizes 3 continous variables and one boolean.  Suppose we use the same logic as the single input-output case.  5 x 5 x 5 x 2 experiments (250 experiments) to fill out that matrix!!!\n",
      "\n",
      "Well, let's explore 2 possibilities:\n",
      "1. You know from experience that each of those variables affects the output of your process.  \n",
      "   You may be up a creek without a paddle and have to bite the bullet to fill out the matrix.  \n",
      "   (Depending on the linearity of the transfer function, there may be several ways to eliminate some of the testing.)  \n",
      "\n",
      "2. You suspect that some of those variables (maybe one) control the output more than the other variables. \n",
      "   Well, there's DOE to help you out.\n",
      "   \n",
      "If we are in the realm of case 2, where a process is completely new to us, how do we map out the process?\n",
      "\n",
      "DOE  a process:\n",
      "---\n",
      "We'll stick with 3 continuous variables and 1 boolean.  Our outcome will be a single continous variable.\n",
      "\n",
      "First. Identify the critical levels of the continous variables.  \n",
      "   Ex: When baking a cake, oven temp has a realistic limit based on the oven of say 200F to 500F.  And, the limted experience you have with making ready make cake kits, has instructions to set the temp at 350F almost all of the time.\n",
      "   It's pretty obious we will not choose any temp that exceeds the machine limits, and it may be prudent to examine literature on the realistic limits that other recipes use for bake temp.\n",
      "   \n",
      "Second. Choose a high and low value for each of the variables. (Let's stick with the cake example)\n",
      "\n",
      "| Variable | Hi Value | Low Value |\n",
      "|-|-|-|\n",
      "| Oven Temp | 300F | 400F |\n",
      "| Cook Time | 30min | 60min |\n",
      "| Salt | none | 2tsp |\n",
      "| Non-Stick Spray for Pan | Yes | No |\n",
      "\n",
      "Well, we reduced a rather large test matrix of 250 to 16 tests. There are several techniques for reducing this study even furher which we will discuss further.\n",
      "\n",
      "Third. Here's the magic in the real word.  What are we going to measure that indicates we have a good process? Ahh, that's what we want in the end and is also a completely incomplete statement.  Philosopher's have written many books on 'good' and 'qualit' that we will hopefully stay away from.  DOE is not going to give us that.  DOE is going to tell us what \"knobs\" we have, and what effedt they have engineern the outcome.  As an engineer, (process or design engineer) these outcomes can have very different forms.  A design  may care  about the \"feel\" of the cake. A process engineer is going to care about what he can measure (texture, moisture contentA good, stable, useful process \n",
      "\n",
      "So, we're at an impass. I could go find a recipe and black out the oven temp, cook time, salt content, and pan preparation instructions and ask you to send me the results... or I can create a fake database of test results that follow a formula that I make up"
     ]
    },
    {
     "cell_type": "code",
     "collapsed": false,
     "input": [
      "import pandas as pd\n",
      "import random\n",
      "import numpy as np\n",
      "import math\n",
      "import matplotlib.pyplot as plt\n",
      "%matplotlib inline"
     ],
     "language": "python",
     "metadata": {},
     "outputs": [],
     "prompt_number": 7
    },
    {
     "cell_type": "code",
     "collapsed": false,
     "input": [
      "pd.__version__"
     ],
     "language": "python",
     "metadata": {},
     "outputs": [
      {
       "metadata": {},
       "output_type": "pyout",
       "prompt_number": 2,
       "text": [
        "'0.14.1'"
       ]
      }
     ],
     "prompt_number": 2
    },
    {
     "cell_type": "code",
     "collapsed": false,
     "input": [
      "np.random.randn(1)"
     ],
     "language": "python",
     "metadata": {},
     "outputs": [
      {
       "metadata": {},
       "output_type": "pyout",
       "prompt_number": 3,
       "text": [
        "array([-1.85085195])"
       ]
      }
     ],
     "prompt_number": 3
    },
    {
     "cell_type": "code",
     "collapsed": false,
     "input": [
      "def gen_series(T = 1., n = 100):\n",
      "    \n",
      "    return [T * float(i) / n for i in range(n)]"
     ],
     "language": "python",
     "metadata": {},
     "outputs": [],
     "prompt_number": 4
    },
    {
     "cell_type": "code",
     "collapsed": false,
     "input": [
      "x = gen_series(math.pi * 2, 1000)\n",
      "y = np.sin(x)*10\n",
      "y = [random.normalvariate(1.,1.) + i for i in y]\n",
      "plt.plot(x,y)\n",
      "plt.show()"
     ],
     "language": "python",
     "metadata": {},
     "outputs": [
      {
       "metadata": {},
       "output_type": "display_data",
       "png": "[encoded data removed]",
       "text": [
        "<matplotlib.figure.Figure at 0x7f26565a6810>"
       ]
      }
     ],
     "prompt_number": 5
    },
    {
     "cell_type": "code",
     "collapsed": false,
     "input": [
      "random.normalvariate(1.,1)"
     ],
     "language": "python",
     "metadata": {},
     "outputs": [
      {
       "metadata": {},
       "output_type": "pyout",
       "prompt_number": 6,
       "text": [
        "1.9409323588558003"
       ]
      }
     ],
     "prompt_number": 6
    }
   ],
   "metadata": {}
  }
 ]
}